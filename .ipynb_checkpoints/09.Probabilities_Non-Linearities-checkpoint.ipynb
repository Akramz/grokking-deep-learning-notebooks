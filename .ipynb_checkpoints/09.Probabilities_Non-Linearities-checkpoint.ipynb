{
 "cells": [
  {
   "cell_type": "markdown",
   "metadata": {},
   "source": [
    "# Modeling Probabilities & Non-Linearities: Activation Functions\n",
    "\n",
    "In this chapter, we will:\n",
    "\n",
    "- Learn what is an activation function.\n",
    "- Learn about the standard hidden activation functions\n",
    "    - Sigmoid\n",
    "    - Tanh\n",
    "- Learn about the standard output activation functions\n",
    "    - Softmax\n",
    "\n",
    "> [George Gordon Byron] \"I Know that 2 and 2 make 4 –– & should be glad to prove it too if I could –– though I must say if by any sort of process I could convert 2 & 2 into 5 it would give me much greater pleasure\""
   ]
  },
  {
   "cell_type": "markdown",
   "metadata": {},
   "source": [
    "## What is an Activation Function?"
   ]
  },
  {
   "cell_type": "markdown",
   "metadata": {},
   "source": [
    "An activation function is a function applied to the neurons in a layer during prediction. In that sense, an activation function is any function that can take one number and return another number. There are, however, an infinite number of functions in the universe, and not all of them are useful as activation functions. \n",
    "\n",
    "We've already used an activation function called `ReLU`. The `ReLU` function had the effect of turning all negative numbers to zero.\n",
    "\n",
    "There are many constraints on the nature of activation functions, we present them next."
   ]
  },
  {
   "cell_type": "markdown",
   "metadata": {},
   "source": [
    "### Constraint 1: The Function must be Continuous & Infinite in Domain\n",
    "\n",
    "<div style=\"text-align:center\"><img style=\"width:800px;\" src=\"static/imgs/09/continuous-vs-non.png\"></div>\n",
    "\n",
    "\n",
    "Meaning that the function must have an output number for any input."
   ]
  },
  {
   "cell_type": "markdown",
   "metadata": {},
   "source": [
    "### Constraint 2: Good Activation Functions are Monotonic (Increasing/Decreasing)\n",
    "\n",
    "<div style=\"text-align:center\"><img style=\"width:800px;\" src=\"static/imgs/09/monotonic.png\"></div>\n",
    "\n",
    "An activation function must never change direction (always increasing/decreasing). This particular constrraint is not technically a requirement but if we consider a function that map different input values to the same output, then that function may have multiple perfect configurations. As a result, we can't know the correct direction to go.\n",
    "\n",
    "For an advanced look into this subject, we should look more into convex versus non-convex optimization. "
   ]
  },
  {
   "cell_type": "markdown",
   "metadata": {},
   "source": [
    "### Constraint 3: Good Activation Functions are Non-Linear\n",
    "\n",
    "<div style=\"text-align:center\"><img style=\"width:800px;\" src=\"static/imgs/09/non-linearity.png\"></div>\n",
    "\n",
    "Linear functions scale values, they do not effect how correlated a neuron is to various inputs. They just make the collective corrrelation that is represented louder or softer.\n",
    "\n",
    "What we want instead is **selective correlation**."
   ]
  },
  {
   "cell_type": "markdown",
   "metadata": {},
   "source": [
    "### Constraint 4: Good Activation Functions (& their derivatives) should be efficiently computable\n",
    "\n",
    "We will be using the chosen activation functions a lot. For this reason, we want them (and their derivatives) to be efficiently computable. As an example, `ReLU` has become very popular mostly because it's efficient to compute. "
   ]
  },
  {
   "cell_type": "markdown",
   "metadata": {},
   "source": [
    "## Standard Hidden-Layer Activation Functions\n",
    "### Which ones are most commonly used?"
   ]
  },
  {
   "cell_type": "markdown",
   "metadata": {},
   "source": [
    "### Sigmoid is the bread & butter Activation\n",
    "\n",
    "<div style=\"text-align:center\"><img style=\"width:400px;\" src=\"static/imgs/09/sigmoid.png\"></div>\n",
    "\n",
    "Sigmoid is great because it smoothly squinshes the infinite amount of input to an output between $0$ and $1$. This lets us interpret the output of any neuron as a **probability**. We typically use this non-linearity both in hidden and outputs layers."
   ]
  },
  {
   "cell_type": "markdown",
   "metadata": {},
   "source": [
    "### Tanh is better than sigmoid for hidden layers\n",
    "\n",
    "<div style=\"text-align:center\"><img style=\"width:400px;\" src=\"static/imgs/09/tanh.png\"></div>\n",
    "\n",
    "`Tanh` is the same as sigmoid except it's between `-1` and `1`. This means it can also throw in some **negative** correlation. This aspect of negative correlation is powerful for hidden layers. On many problems, `tanh` will outperform sigmoid in the hidden layers."
   ]
  },
  {
   "cell_type": "markdown",
   "metadata": {},
   "source": [
    "## Standard output layer activation functions\n",
    "\n",
    "For output layer activation functions, choosing the best one depends on what we're trying to predict. Broadly speaking, there are 3 major types of output layers:"
   ]
  },
  {
   "cell_type": "markdown",
   "metadata": {},
   "source": [
    "### Configuration 1: Predicting Raw Data Values (Regression) — No activation function\n",
    "\n",
    "One example might be predicting the average temperature in colorado given the average temperature in surrounding states."
   ]
  },
  {
   "cell_type": "markdown",
   "metadata": {},
   "source": [
    "### Configuration 2: Predicting Unrelated Yes/No Probabilities (Binary Classification) — Sigmoid\n",
    "\n",
    "It's best to use the sigmoid function, Because it models individual probabilities separately for each output node."
   ]
  },
  {
   "cell_type": "markdown",
   "metadata": {},
   "source": [
    "### Configuration 3: Predicting which-one probabilities (Categorical Classification) — Softmax\n",
    "\n",
    "This is by far the common use case in neural networks: predicting a single label out of many. In this case, it's better to have an activation function that models the idea that \"The more likely it's one label, The less likely it's any of the other labels\"."
   ]
  },
  {
   "cell_type": "markdown",
   "metadata": {},
   "source": [
    "## The Core Issue: Inputs have similarity\n",
    "### Different numbers share characteristics. It's good to let the network believe that\n",
    "\n",
    "<div style=\"text-align:center\">\n",
    "    <img style=\"width:33%;\" src=\"static/imgs/09/similarity.png\">\n",
    "    <img style=\"width:22%;\" src=\"static/imgs/09/weights.png\">\n",
    "</div>"
   ]
  },
  {
   "cell_type": "markdown",
   "metadata": {},
   "source": [
    "As we can see in the above figure, the average `2` shares quite a bit with the average `3`. As a general rule, similar inputs create similar outputs, when we take some numbers and multiply them by a matrix, if the starting numbers are pretty similar, the ending numbers will be pretty similar.\n",
    "\n",
    "As a result, sigmoid will penelize the network for recognizing a `2` by anything other than features that are exclusively related to `2`s.\n",
    "    \n",
    "Most Images share lots of pixels in the middle of images. Because of that **the network will start trying to focus on the edges instead**. As we can see in the weight Image, the light areas are probably the best individual indicators of a `2`. \n",
    "\n",
    "What we are really striving for, though, is a network that \"sees\" the entire shape of a digit before outputing a prediction."
   ]
  },
  {
   "cell_type": "markdown",
   "metadata": {},
   "source": [
    "## Softmax Computation\n",
    "### Softmax raises each input value exponentially and then divides by the layer's sum\n",
    "\n",
    "$$\\sigma(y)_{i} = \\frac{e^{y_i}}{\\sum_{j=1}^{K} e^{y_{j}}}$$\n",
    "\n",
    "Softmax raises each input value exponentially and then divides by the layer's sum. The nice thing about softmax is that the higher the network predicts one value, the lower it predicts all the others. It encourages the network to pick out class with a very high probability.\n",
    "\n",
    "To adjust how aggresively Softmax pushes the density to one class, use number slightly bigger or lower than $e$. Lower numbers will result in lower *attenuation* and higher numbers will result win bigger *attenuation*. For now, we stick to $e$."
   ]
  },
  {
   "cell_type": "markdown",
   "metadata": {},
   "source": [
    "## Activation Installation Instructions\n",
    "### How do we add our favorite activation function to any layer?\n",
    "\n",
    "We know the following:\n",
    "- The Slope of `ReLU` for positive numbers is exactly 1.\n",
    "- The Slope of `ReLU` for negative numbers is exactly 0.\n",
    "\n",
    "As a reminder, the slope is a measure of how much the output of `ReLU` will change given a change in the input. The Input to a layer refers to the value before the nonlinearity. Modifying the input to `ReLU` (by a tiny amount) will have a 1:1 effect if it was predicting positively and a 0:1 effect if it was predicting negatively.\n",
    "\n",
    "Thus, when we backpropagate, in order to generate `layer_1_delta`, multiply the backpropagated `delta` from `layer_2` (`layer_2_delta.dot(W_2.T)`) by the slope of `ReLU` at the point predicted in forward propagation. For some deltas the slope is $1$ (positive numbers) and for others it's $0$ (negative numbers).\n",
    "\n",
    "The important thing to remember is that the slope is an indicator of how much a tiny change to the input effects the output. The update effect encourages the network to leave weights alone if adjusting them will have little to no effect."
   ]
  },
  {
   "cell_type": "markdown",
   "metadata": {},
   "source": [
    "## Multiplying Delta by the Slope\n",
    "\n",
    "To compute `layer_delta`, we multiply the backpropagated delta by the layer's slope:\n",
    "\n",
    "<div style=\"text-align:center\">\n",
    "    <img style=\"width:33%;\" src=\"static/imgs/09/layer_delta.png\">\n",
    "</div>\n",
    "\n",
    "`layer_1_delta[0]` represents how much higher or lower the first hidden node of layer 1 should be in order to reduce the error of the network. The end goal of delta on a neuron is to inform the weights whether they should move. If moving them would have no effect, they should be left alone.\n",
    "\n",
    "<div style=\"text-align:center\">\n",
    "    <img style=\"width:66%;\" src=\"static/imgs/09/activations.png\">\n",
    "</div>\n",
    "\n",
    "This condition is obvious for ReLU, which is either on or off, but Sigmoid's sensitivity to change in the input slowly increases as the input approaches 0 from either direction. However, **very positive** and **very negative** inputs approach a slope of very near 0. Thus, as the input becomes very positive/negative, small changes to the incoming weights become less relevant to the neuron's error for the specific training example."
   ]
  },
  {
   "cell_type": "markdown",
   "metadata": {},
   "source": [
    "## Converting Output to Slope (Derivative)\n",
    "\n",
    "For all of the previous activation functions, we can directly convert their output to their slope:\n",
    "\n",
    "<div style=\"text-align:center\">\n",
    "    <img style=\"width:75%;\" src=\"static/imgs/09/Pariston.png\">\n",
    "</div>\n",
    "\n",
    "Most Great Activations have a means by which the output of the layer (at forward propagation) can be used to compute the derivative. This has become the standard practice for computing derivatives in neural networks, and it's quite handy."
   ]
  },
  {
   "cell_type": "markdown",
   "metadata": {},
   "source": [
    "## Upgrading the MNIST Network\n",
    "\n",
    "Let's Upgrade the MNIST Network to reflect what you've learned. Theoretically, the `tanh` function should make for a better hidden-layer activation. The `softmax` function, on the other hand, should make for a better output layer activation function, but things aren't always as simple as they seem. For `Tanh` we had to reduce the standard diviation for the incoming weights (we adjust weigth values to be between `-.01` & `+.01`). We also tune the learning rate."
   ]
  },
  {
   "cell_type": "code",
   "execution_count": 1,
   "metadata": {},
   "outputs": [],
   "source": [
    "import numpy as np\n",
    "import sys"
   ]
  },
  {
   "cell_type": "code",
   "execution_count": 2,
   "metadata": {},
   "outputs": [],
   "source": [
    "from tensorflow.keras.datasets import mnist"
   ]
  },
  {
   "cell_type": "code",
   "execution_count": 3,
   "metadata": {},
   "outputs": [
    {
     "data": {
      "text/plain": [
       "((60000, 28, 28), (60000,), (10000, 28, 28), (10000,))"
      ]
     },
     "execution_count": 3,
     "metadata": {},
     "output_type": "execute_result"
    }
   ],
   "source": [
    "(X_train, y_train), (X_test, y_test) = mnist.load_data()\n",
    "X_train.shape, y_train.shape, X_test.shape, y_test.shape"
   ]
  },
  {
   "cell_type": "code",
   "execution_count": 4,
   "metadata": {},
   "outputs": [
    {
     "data": {
      "text/plain": [
       "((1000, 784), (1000,))"
      ]
     },
     "execution_count": 4,
     "metadata": {},
     "output_type": "execute_result"
    }
   ],
   "source": [
    "images, labels = (X_train[:1000].reshape(1000, 28*28))/255, y_train[:1000]\n",
    "images.shape, labels.shape"
   ]
  },
  {
   "cell_type": "code",
   "execution_count": 5,
   "metadata": {},
   "outputs": [
    {
     "data": {
      "text/plain": [
       "(1000, 10)"
      ]
     },
     "execution_count": 5,
     "metadata": {},
     "output_type": "execute_result"
    }
   ],
   "source": [
    "one_hot_labels = np.zeros((labels.shape[0], 10))\n",
    "one_hot_labels.shape"
   ]
  },
  {
   "cell_type": "code",
   "execution_count": 6,
   "metadata": {},
   "outputs": [
    {
     "data": {
      "text/plain": [
       "(1000, 10)"
      ]
     },
     "execution_count": 6,
     "metadata": {},
     "output_type": "execute_result"
    }
   ],
   "source": [
    "for i, l in enumerate(labels):\n",
    "    one_hot_labels[i][l] = 1\n",
    "labels = one_hot_labels\n",
    "labels.shape"
   ]
  },
  {
   "cell_type": "code",
   "execution_count": 7,
   "metadata": {},
   "outputs": [
    {
     "data": {
      "text/plain": [
       "(10000, 784)"
      ]
     },
     "execution_count": 7,
     "metadata": {},
     "output_type": "execute_result"
    }
   ],
   "source": [
    "test_images = X_test.reshape(X_test.shape[0], 28*28)/255\n",
    "test_images.shape"
   ]
  },
  {
   "cell_type": "code",
   "execution_count": 8,
   "metadata": {},
   "outputs": [
    {
     "data": {
      "text/plain": [
       "(10000, 10)"
      ]
     },
     "execution_count": 8,
     "metadata": {},
     "output_type": "execute_result"
    }
   ],
   "source": [
    "one_hot_test_labels = np.zeros((y_test.shape[0], 10))\n",
    "one_hot_test_labels.shape"
   ]
  },
  {
   "cell_type": "code",
   "execution_count": 9,
   "metadata": {},
   "outputs": [
    {
     "data": {
      "text/plain": [
       "(10000, 10)"
      ]
     },
     "execution_count": 9,
     "metadata": {},
     "output_type": "execute_result"
    }
   ],
   "source": [
    "for i, l in enumerate(y_test):\n",
    "    one_hot_test_labels[i][l] = 1\n",
    "test_labels = one_hot_test_labels\n",
    "test_labels.shape"
   ]
  },
  {
   "cell_type": "code",
   "execution_count": 10,
   "metadata": {},
   "outputs": [],
   "source": [
    "# activation functions.\n",
    "def tanh(x):\n",
    "    return np.tanh(x)\n",
    "\n",
    "def tanh2deriv(output):\n",
    "    return 1 - (output ** 2)\n",
    "\n",
    "def softmax(x):\n",
    "    temp = np.exp(x)\n",
    "    return temp / np.sum(temp, axis=1, keepdims=True)"
   ]
  },
  {
   "cell_type": "code",
   "execution_count": 11,
   "metadata": {},
   "outputs": [],
   "source": [
    "alpha, iterations, hidden_size = (2, 300, 100)\n",
    "pixels_per_image, num_labels = (784, 10)\n",
    "batch_size = 100"
   ]
  },
  {
   "cell_type": "code",
   "execution_count": 12,
   "metadata": {},
   "outputs": [
    {
     "data": {
      "text/plain": [
       "((784, 100), (100, 10))"
      ]
     },
     "execution_count": 12,
     "metadata": {},
     "output_type": "execute_result"
    }
   ],
   "source": [
    "W_1 = (0.02 * np.random.random((pixels_per_image,hidden_size))) - 0.01\n",
    "W_2 = (0.2 * np.random.random((hidden_size,num_labels))) - 0.1\n",
    "W_1.shape, W_2.shape"
   ]
  },
  {
   "cell_type": "code",
   "execution_count": 13,
   "metadata": {},
   "outputs": [
    {
     "name": "stdout",
     "output_type": "stream",
     "text": [
      "I: 0 | Test-Acc: 0.4141 | Train-Acc: 0.159\n",
      "I: 10 | Test-Acc: 0.6838 | Train-Acc: 0.691\n",
      "I: 20 | Test-Acc: 0.7108 | Train-Acc: 0.725\n",
      "I: 30 | Test-Acc: 0.7377 | Train-Acc: 0.763\n",
      "I: 40 | Test-Acc: 0.7698 | Train-Acc: 0.807\n",
      "I: 50 | Test-Acc: 0.794 | Train-Acc: 0.831\n",
      "I: 60 | Test-Acc: 0.8109 | Train-Acc: 0.85\n",
      "I: 70 | Test-Acc: 0.8193 | Train-Acc: 0.864\n",
      "I: 80 | Test-Acc: 0.8273 | Train-Acc: 0.869\n",
      "I: 90 | Test-Acc: 0.833 | Train-Acc: 0.877\n",
      "I: 100 | Test-Acc: 0.8399 | Train-Acc: 0.892\n",
      "I: 110 | Test-Acc: 0.8419 | Train-Acc: 0.889\n",
      "I: 120 | Test-Acc: 0.8452 | Train-Acc: 0.902\n",
      "I: 130 | Test-Acc: 0.846 | Train-Acc: 0.906\n",
      "I: 140 | Test-Acc: 0.8498 | Train-Acc: 0.908\n",
      "I: 150 | Test-Acc: 0.852 | Train-Acc: 0.906\n",
      "I: 160 | Test-Acc: 0.8543 | Train-Acc: 0.918\n",
      "I: 170 | Test-Acc: 0.8561 | Train-Acc: 0.926\n",
      "I: 180 | Test-Acc: 0.8573 | Train-Acc: 0.921\n",
      "I: 190 | Test-Acc: 0.859 | Train-Acc: 0.931\n",
      "I: 200 | Test-Acc: 0.8602 | Train-Acc: 0.933\n",
      "I: 210 | Test-Acc: 0.8607 | Train-Acc: 0.928\n",
      "I: 220 | Test-Acc: 0.8628 | Train-Acc: 0.93\n",
      "I: 230 | Test-Acc: 0.8637 | Train-Acc: 0.938\n",
      "I: 240 | Test-Acc: 0.8651 | Train-Acc: 0.941\n",
      "I: 250 | Test-Acc: 0.8656 | Train-Acc: 0.945\n",
      "I: 260 | Test-Acc: 0.8672 | Train-Acc: 0.94\n",
      "I: 270 | Test-Acc: 0.8678 | Train-Acc: 0.939\n",
      "I: 280 | Test-Acc: 0.8687 | Train-Acc: 0.943\n",
      "I: 290 | Test-Acc: 0.8692 | Train-Acc: 0.951\n"
     ]
    }
   ],
   "source": [
    "# Training Loop\n",
    "for j in range(iterations):  # epoches\n",
    "    correct_cnt = 0\n",
    "    for i in range(int(len(images) / batch_size)):  # batches\n",
    "        batch_start, batch_end = (i * batch_size), ((i+1) * batch_size)\n",
    "        \n",
    "        # Forward Propagation\n",
    "        layer_0 = images[batch_start:batch_end]\n",
    "        layer_1 = tanh(np.dot(layer_0, W_1))\n",
    "        dropout_mask = np.random.randint(2,size=layer_1.shape)\n",
    "        layer_1 *= dropout_mask * 2\n",
    "        layer_2 = softmax(np.dot(layer_1, W_2))\n",
    "        \n",
    "        # benchmarking\n",
    "        for k in range(batch_size):\n",
    "            correct_cnt += int(np.argmax(layer_2[k:k+1]) == np.argmax(labels[batch_start+k:batch_start+k+1]))\n",
    "        \n",
    "        # backpropagation\n",
    "        layer_2_delta = (labels[batch_start:batch_end] - layer_2) / (batch_size * layer_2.shape[0])\n",
    "        layer_1_delta = layer_2_delta.dot(W_2.T)*tanh2deriv(layer_1)\n",
    "        layer_1_delta *= dropout_mask\n",
    "        \n",
    "        # optimization\n",
    "        W_2 += alpha * layer_1.T.dot(layer_2_delta)\n",
    "        W_1 += alpha * layer_0.T.dot(layer_1_delta)\n",
    "    \n",
    "    test_correct_cnt = 0\n",
    "    \n",
    "    for i in range(len(test_images)):  # test images\n",
    "        # predict\n",
    "        layer_0 = test_images[i:i+1]\n",
    "        layer_1 = tanh(np.dot(layer_0,W_1)) \n",
    "        layer_2 = np.dot(layer_1,W_2) \n",
    "        \n",
    "        # benchmark\n",
    "        test_correct_cnt += int(np.argmax(layer_2) == np.argmax(test_labels[i:i+1]))\n",
    "    \n",
    "    if(j % 10 == 0):\n",
    "        print(f\"I: {j} | Test-Acc: {round(test_correct_cnt / float(len(test_images)), 5)} | Train-Acc: {round(correct_cnt / float(len(images)), 5)}\")"
   ]
  },
  {
   "cell_type": "markdown",
   "metadata": {},
   "source": [
    "---"
   ]
  },
  {
   "cell_type": "markdown",
   "metadata": {},
   "source": [
    "### ReLU + Dropout\n",
    "\n",
    "In this section, we're going to make sure that we understand batch stochastic gradient descent + the new activation functions by implementing `Dropout` with `ReLU`:"
   ]
  },
  {
   "cell_type": "code",
   "execution_count": 56,
   "metadata": {},
   "outputs": [],
   "source": [
    "from tensorflow.keras import datasets "
   ]
  },
  {
   "cell_type": "code",
   "execution_count": 57,
   "metadata": {},
   "outputs": [
    {
     "data": {
      "text/plain": [
       "((60000, 28, 28), (60000,), (10000, 28, 28), (10000,))"
      ]
     },
     "execution_count": 57,
     "metadata": {},
     "output_type": "execute_result"
    }
   ],
   "source": [
    "# Load Data.\n",
    "(X_train, y_train), (X_test, y_test) = datasets.mnist.load_data()\n",
    "X_train.shape, y_train.shape, X_test.shape, y_test.shape"
   ]
  },
  {
   "cell_type": "code",
   "execution_count": 58,
   "metadata": {},
   "outputs": [],
   "source": [
    "# light data pre-processing\n",
    "x_train, y_train = (X_train[:1000].reshape((1000, 28*28))/255.), (y_train[:1000])"
   ]
  },
  {
   "cell_type": "code",
   "execution_count": 59,
   "metadata": {},
   "outputs": [
    {
     "data": {
      "text/plain": [
       "array([[0., 0., 0., 0., 0., 1., 0., 0., 0., 0.],\n",
       "       [1., 0., 0., 0., 0., 0., 0., 0., 0., 0.],\n",
       "       [0., 0., 0., 0., 1., 0., 0., 0., 0., 0.]])"
      ]
     },
     "execution_count": 59,
     "metadata": {},
     "output_type": "execute_result"
    }
   ],
   "source": [
    "# one hotting `y_train`\n",
    "labels_train = np.zeros((y_train.shape[0], 10))\n",
    "for i, v in enumerate(y_train):\n",
    "    labels_train[i][v] = 1\n",
    "labels_train[:3]"
   ]
  },
  {
   "cell_type": "code",
   "execution_count": 60,
   "metadata": {},
   "outputs": [
    {
     "data": {
      "text/plain": [
       "array([[0., 0., 0., 0., 0., 0., 0., 1., 0., 0.],\n",
       "       [0., 0., 1., 0., 0., 0., 0., 0., 0., 0.],\n",
       "       [0., 1., 0., 0., 0., 0., 0., 0., 0., 0.]])"
      ]
     },
     "execution_count": 60,
     "metadata": {},
     "output_type": "execute_result"
    }
   ],
   "source": [
    "# same to testing data.\n",
    "x_test = X_test.reshape((-1, 28*28))/255.\n",
    "labels_test = np.zeros((y_test.shape[0], 10))\n",
    "for i, v in enumerate(y_test):\n",
    "    labels_test[i][v] = 1\n",
    "labels_test[:3]"
   ]
  },
  {
   "cell_type": "code",
   "execution_count": 61,
   "metadata": {},
   "outputs": [
    {
     "data": {
      "text/plain": [
       "((1000, 784), (1000, 10), (10000, 784), (10000, 10))"
      ]
     },
     "execution_count": 61,
     "metadata": {},
     "output_type": "execute_result"
    }
   ],
   "source": [
    "x_train.shape, labels_train.shape, x_test.shape, labels_test.shape"
   ]
  },
  {
   "cell_type": "code",
   "execution_count": 62,
   "metadata": {},
   "outputs": [],
   "source": [
    "# activation functions.\n",
    "def ReLU(x):\n",
    "    return (x > 0) * x\n",
    "\n",
    "def grad_ReLU(x):\n",
    "    return (x > 0).astype('int')\n",
    "\n",
    "def tanh(x):\n",
    "    return np.tanh(x)\n",
    "\n",
    "def tanh2deriv(x):\n",
    "    return 1 - (x ** 2)\n",
    "\n",
    "def softmax(x):\n",
    "    temp = np.exp(x)\n",
    "    return temp / np.sum(temp, axis=1, keepdims=True)"
   ]
  },
  {
   "cell_type": "code",
   "execution_count": 63,
   "metadata": {},
   "outputs": [],
   "source": [
    "# configuration parameters\n",
    "lr, epoches, hidden_size = 2, 100, 100\n",
    "pixels_count, labels_count = 784, 10\n",
    "batch_size = 100"
   ]
  },
  {
   "cell_type": "code",
   "execution_count": 64,
   "metadata": {},
   "outputs": [
    {
     "data": {
      "text/plain": [
       "((784, 100), (100, 10))"
      ]
     },
     "execution_count": 64,
     "metadata": {},
     "output_type": "execute_result"
    }
   ],
   "source": [
    "# Random Wights Initialization\n",
    "W_0 = (0.02 * np.random.random((784,100))) - 0.01\n",
    "W_1 = (0.02 * np.random.random((100,10))) - 0.01\n",
    "W_0.shape, W_1.shape"
   ]
  },
  {
   "cell_type": "code",
   "execution_count": 65,
   "metadata": {},
   "outputs": [
    {
     "name": "stdout",
     "output_type": "stream",
     "text": [
      "\n",
      "Epoch:0 Test-Acc:0.3397 Train-Acc:0.173\n",
      "\n",
      "Epoch:10 Test-Acc:0.7704 Train-Acc:0.734\n",
      "\n",
      "Epoch:20 Test-Acc:0.8415 Train-Acc:0.872\n",
      "\n",
      "Epoch:30 Test-Acc:0.8543 Train-Acc:0.894\n",
      "\n",
      "Epoch:40 Test-Acc:0.867 Train-Acc:0.922\n",
      "\n",
      "Epoch:50 Test-Acc:0.8697 Train-Acc:0.946\n",
      "\n",
      "Epoch:60 Test-Acc:0.8712 Train-Acc:0.943\n",
      "\n",
      "Epoch:70 Test-Acc:0.8712 Train-Acc:0.965\n",
      "\n",
      "Epoch:80 Test-Acc:0.875 Train-Acc:0.967\n",
      "\n",
      "Epoch:90 Test-Acc:0.8748 Train-Acc:0.963\n"
     ]
    }
   ],
   "source": [
    "for epoch in range(epoches):\n",
    "    \n",
    "    # cuz each epoch passes through all training data, we calc error each epoch\n",
    "    correct_count = []\n",
    "    \n",
    "    for batch_i in range(int(x_train.shape[0]/batch_size)):\n",
    "        # get batch\n",
    "        batch_start, batch_end = (batch_i * batch_size), ((batch_i+1) * batch_size)\n",
    "        X = x_train[batch_start:batch_end]\n",
    "        y = labels_train[batch_start:batch_end]\n",
    "        \n",
    "        # forward propagation\n",
    "        layer_0 = X\n",
    "        layer_1 = ReLU(np.matmul(layer_0, W_0))\n",
    "        dropout_mask = np.random.randint(2, size=layer_1.shape)\n",
    "        layer_1 *= dropout_mask * 2\n",
    "        layer_2 = softmax(np.matmul(layer_1, W_1))\n",
    "        \n",
    "        # Evaluating, loop over the batch\n",
    "        for k in range(batch_size):\n",
    "            # we want to loop over the batch images.\n",
    "            x_i, y_i, y_i_hat = X[k:k+1], y[k:k+1], layer_2[k:k+1]\n",
    "            \n",
    "            if np.argmax(y_i_hat.squeeze()) == np.argmax(y_i.squeeze()):\n",
    "                correct_count.append(1)\n",
    "            else:\n",
    "                correct_count.append(0)\n",
    "        \n",
    "        # backpropagation\n",
    "        layer_2_delta = (layer_2 - y) / (batch_size * layer_2.shape[1])\n",
    "        layer_1_delta = layer_2_delta.dot(W_1.T) * grad_ReLU(layer_1)\n",
    "        layer_1_delta *= dropout_mask\n",
    "        \n",
    "        # Optimization\n",
    "        W_1 -= lr * (layer_1.T.dot(layer_2_delta))\n",
    "        W_0 -= lr * (layer_0.T.dot(layer_1_delta))\n",
    "        \n",
    "    test_correct_count = list()\n",
    "    \n",
    "    # evaluate over test dataset.\n",
    "    for i in range(x_test.shape[0]):\n",
    "        # get data\n",
    "        x_i, y_i = x_test[i:i+1], labels_test[i:i+1]\n",
    "        \n",
    "        # forward propagation\n",
    "        layer_0 = x_i\n",
    "        layer_1 = ReLU(layer_0.dot(W_0))\n",
    "        layer_2 = softmax(layer_1.dot(W_1))\n",
    "        \n",
    "        if np.argmax(layer_2.squeeze()) == np.argmax(y_i.squeeze()):\n",
    "            test_correct_count.append(1)\n",
    "        else:\n",
    "            test_correct_count.append(0)\n",
    "        \n",
    "    if(epoch % 10 == 0):\n",
    "        print(\"\\n\"+ \"Epoch:\" + str(epoch) + \\\n",
    "              \" Test-Acc:\"+str(np.sum(np.array(test_correct_count))/np.array(test_correct_count).shape[0])+ \\\n",
    "              \" Train-Acc:\" + str(np.sum(np.array(correct_count))/np.array(correct_count).shape[0]))"
   ]
  },
  {
   "cell_type": "markdown",
   "metadata": {},
   "source": [
    "---"
   ]
  }
 ],
 "metadata": {
  "kernelspec": {
   "display_name": "Python 3",
   "language": "python",
   "name": "python3"
  },
  "language_info": {
   "codemirror_mode": {
    "name": "ipython",
    "version": 3
   },
   "file_extension": ".py",
   "mimetype": "text/x-python",
   "name": "python",
   "nbconvert_exporter": "python",
   "pygments_lexer": "ipython3",
   "version": "3.8.6"
  }
 },
 "nbformat": 4,
 "nbformat_minor": 4
}
