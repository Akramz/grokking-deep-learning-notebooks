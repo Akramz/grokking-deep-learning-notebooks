{
 "cells": [
  {
   "cell_type": "markdown",
   "metadata": {},
   "source": [
    "# Neural Learning about Edges and Corners: Intro to Convolutional Neural Networks\n",
    "\n",
    "In this Chapter:\n",
    "\n",
    "- Reusing Weights in Multiple Places.\n",
    "- The Convolutional Layer.\n",
    "\n",
    "> \"The Pooling Operation used in Convolutional Neural Networks is a big mistake, and the fact that is works so well is a disaster\". — Geoffrey Hinton, from \"Ask me anything\" on Reddit."
   ]
  },
  {
   "cell_type": "markdown",
   "metadata": {},
   "source": [
    "## Reusing Weights in multiple places\n",
    "### If you need to detect the same feature in multiple places, use the same weights!"
   ]
  },
  {
   "cell_type": "markdown",
   "metadata": {},
   "source": [
    "- The greatest challenge in NNs is that of overfitting.\n",
    "- Overfitting is often caused by having more parameters than necessary to learn a specific data set.\n",
    "- when NNs have a lot of parameters and few training examples, it becomes very easy to overfit.\n",
    "- There's a better method than regularization to counter overfitting, we call it **structure**.\n",
    "    - Structure is when you selectively choose the same group of weights in multiple purposes in a NN.\n",
    "        - Because we believe the same pattern needs to be detected in multiple places.\n",
    "- The most famous and used structure in NNs is called a **convolution**.\n",
    "    - When user in a layer it's called a **convolutional layer**."
   ]
  },
  {
   "cell_type": "markdown",
   "metadata": {},
   "source": [
    "## The Convolutional Layer\n",
    "### Lots of very small linear layers are reused in every position, instead of a single big one."
   ]
  },
  {
   "cell_type": "markdown",
   "metadata": {},
   "source": [
    "- The core idea behind a convolutional layer is that instead of having a big dense layer connected to the whole input, we have small but many layers with a limited number of inputs (no more than 25) & one output, that scraps the input matrices one element at a time.\n",
    "- Each mini-layer is called a convolutional kernel, containing the weights/activation function.\n",
    "\n",
    "<div style=\"text-align:center\">\n",
    "    <img style=\"width:33%;\" src=\"static/imgs/10/convolutional_layer.png\">\n",
    "</div>"
   ]
  },
  {
   "cell_type": "markdown",
   "metadata": {},
   "source": [
    "- Shown here is an example of a **3x3 convolutional layer**, it will predict the center pixel values, moves one pixel to the right, predict again, and moves again, and so on.\n",
    "- repeating until it has made a prediction for every possible position in the image.\n",
    "- the resulting image is a 6x6 image.\n",
    "- in CNNs, we usually use many and many filters.\n",
    "\n",
    "<div style=\"text-align:center\">\n",
    "    <img style=\"width:25%;\" src=\"static/imgs/10/step_0.png\">\n",
    "    <img style=\"width:25%;\" src=\"static/imgs/10/step_1.png\">\n",
    "    <img style=\"width:25%;\" src=\"static/imgs/10/step_2.png\">\n",
    "</div>"
   ]
  },
  {
   "cell_type": "markdown",
   "metadata": {},
   "source": [
    "- **You can either sum the outputs of the kernels (element-wise, sum pooling), take the mean element-wise (mean pooling), or take the max value element-wise (max pooling)**.\n",
    "- The last version turns out to be the most popular.\n",
    "- This final matrix is then forward propagated to later layers.\n",
    "- There are a few things to notice in these figures:\n",
    "    - **The Top right kernel forward propagate a 1 only if it's focused on a horizontal line**.\n",
    "    - **The Bottom left kernel forward propagate a 1 only if it's focused on a diagonal line pointing upward and to the right**.\n",
    "- It's important to realize that this technique allows each kernel to search for a certain pattern and mark its existance on every location of the image.\n",
    "- This small-weights-to-large-datasets has a considerable impact on fighting overfitting and increases the networks ability to generalize well."
   ]
  },
  {
   "cell_type": "markdown",
   "metadata": {},
   "source": [
    "## A Simple Implementation in NumPy\n",
    "### Just think mini-linear layers, and you already know what you need to know."
   ]
  },
  {
   "cell_type": "code",
   "execution_count": 9,
   "metadata": {},
   "outputs": [],
   "source": [
    "import numpy as np \n",
    "import keras\n",
    "from keras import datasets\n",
    "import matplotlib.pyplot as plt\n",
    "import seaborn as sns"
   ]
  },
  {
   "cell_type": "code",
   "execution_count": 2,
   "metadata": {},
   "outputs": [
    {
     "data": {
      "text/plain": [
       "((60000, 28, 28), (60000,), (10000, 28, 28), (10000,))"
      ]
     },
     "execution_count": 2,
     "metadata": {},
     "output_type": "execute_result"
    }
   ],
   "source": [
    "(X_train, y_train), (X_test, y_test) = datasets.mnist.load_data()\n",
    "X_train.shape, y_train.shape, X_test.shape, y_test.shape"
   ]
  },
  {
   "cell_type": "code",
   "execution_count": 3,
   "metadata": {},
   "outputs": [
    {
     "data": {
      "text/plain": [
       "<matplotlib.image.AxesImage at 0x12b92b550>"
      ]
     },
     "execution_count": 3,
     "metadata": {},
     "output_type": "execute_result"
    },
    {
     "data": {
      "image/png": "[encoded data removed]",
      "text/plain": [
       "<Figure size 432x288 with 1 Axes>"
      ]
     },
     "metadata": {
      "needs_background": "light"
     },
     "output_type": "display_data"
    }
   ],
   "source": [
    "# Visualizing one example:\n",
    "plt.imshow(X_train[89].squeeze())"
   ]
  },
  {
   "cell_type": "code",
   "execution_count": 4,
   "metadata": {},
   "outputs": [],
   "source": [
    "# get example\n",
    "image_example = X_train[89].squeeze()/255."
   ]
  },
  {
   "cell_type": "code",
   "execution_count": 5,
   "metadata": {},
   "outputs": [],
   "source": [
    "def get_image_section(layer, row_from, row_to, col_from, col_to):\n",
    "    return layer[row_from:row_to+1, col_from:col_to+1]"
   ]
  },
  {
   "cell_type": "code",
   "execution_count": 6,
   "metadata": {},
   "outputs": [
    {
     "data": {
      "text/plain": [
       "<matplotlib.image.AxesImage at 0x12ba05940>"
      ]
     },
     "execution_count": 6,
     "metadata": {},
     "output_type": "execute_result"
    },
    {
     "data": {
      "image/png": "[encoded data removed]",
      "text/plain": [
       "<Figure size 432x288 with 1 Axes>"
      ]
     },
     "metadata": {
      "needs_background": "light"
     },
     "output_type": "display_data"
    }
   ],
   "source": [
    "plt.imshow(get_image_section(image_example, 3, 13, 5, 15))"
   ]
  },
  {
   "cell_type": "code",
   "execution_count": 13,
   "metadata": {},
   "outputs": [],
   "source": [
    "# book implementation.\n",
    "def get_image_section(layer, row_from, row_to, col_from, col_to):\n",
    "    sub_section = layer[:, row_from:row_to, col_from:col_to]\n",
    "    return sub_section.reshape(-1, 1, row_to-row_from, col_to-col_from)"
   ]
  },
  {
   "cell_type": "code",
   "execution_count": 14,
   "metadata": {},
   "outputs": [
    {
     "data": {
      "text/plain": [
       "<matplotlib.image.AxesImage at 0x12e2295c0>"
      ]
     },
     "execution_count": 14,
     "metadata": {},
     "output_type": "execute_result"
    },
    {
     "data": {
      "image/png": "[encoded data removed]",
      "text/plain": [
       "<Figure size 432x288 with 1 Axes>"
      ]
     },
     "metadata": {
      "needs_background": "light"
     },
     "output_type": "display_data"
    }
   ],
   "source": [
    "plt.imshow(get_image_section(image_example.reshape(1,28,28), 3, 13, 5, 15).squeeze())"
   ]
  },
  {
   "cell_type": "markdown",
   "metadata": {},
   "source": [
    "- Because this method selects a subsection of a batch of input images, you need to call it multiple times (on every location within the image).\n",
    "- Such a \"for\" loop looks something like this:"
   ]
  },
  {
   "cell_type": "code",
   "execution_count": 16,
   "metadata": {},
   "outputs": [
    {
     "data": {
      "text/plain": [
       "(60000, 28, 28)"
      ]
     },
     "execution_count": 16,
     "metadata": {},
     "output_type": "execute_result"
    }
   ],
   "source": [
    "images = X_train\n",
    "images.shape"
   ]
  },
  {
   "cell_type": "code",
   "execution_count": 21,
   "metadata": {},
   "outputs": [
    {
     "data": {
      "text/plain": [
       "(7, 28, 28)"
      ]
     },
     "execution_count": 21,
     "metadata": {},
     "output_type": "execute_result"
    }
   ],
   "source": [
    "batch_start, batch_end = 0, 7\n",
    "layer_0 = images[batch_start:batch_end]\n",
    "layer_0.shape"
   ]
  },
  {
   "cell_type": "code",
   "execution_count": 24,
   "metadata": {},
   "outputs": [],
   "source": [
    "sections = list()\n",
    "kernel_rows, kernel_cols = 3, 3\n",
    "for row_start in range(layer_0.shape[1]-kernel_rows):\n",
    "    for col_start in range(layer_0.shape[2]-kernel_cols):\n",
    "        section = get_image_section(layer_0, row_start, row_start+kernel_rows, col_start, col_start+kernel_cols)\n",
    "        sections.append(section)"
   ]
  },
  {
   "cell_type": "code",
   "execution_count": 25,
   "metadata": {},
   "outputs": [
    {
     "data": {
      "text/plain": [
       "(7, 625, 3, 3)"
      ]
     },
     "execution_count": 25,
     "metadata": {},
     "output_type": "execute_result"
    }
   ],
   "source": [
    "expanded_input = np.concatenate(sections, axis=1)\n",
    "expanded_input.shape"
   ]
  },
  {
   "cell_type": "code",
   "execution_count": 27,
   "metadata": {},
   "outputs": [
    {
     "data": {
      "text/plain": [
       "(4375, 9)"
      ]
     },
     "execution_count": 27,
     "metadata": {},
     "output_type": "execute_result"
    }
   ],
   "source": [
    "es = expanded_input.shape\n",
    "flattened_input = expanded_input.reshape(es[0]*es[1], -1)\n",
    "flattened_input.shape"
   ]
  },
  {
   "cell_type": "markdown",
   "metadata": {},
   "source": [
    "- In this code, layer_0 is a batch of images 28x28 in shape.\n",
    "- The for loop slides over every subregion in the images, extract and append it to a list called `sections`.\n",
    "- This list of sections is then concatenated and reshaped in a peculiar way.\n",
    "- Pretend for now that each individual subregion is its own image.\n",
    "- Forward-propagating them through a linear layer with one output neuron is the same as predicting that linear layer over every sub-region in every batch.\n",
    "- The following listing shows the entire NumPy implementation: "
   ]
  },
  {
   "cell_type": "code",
   "execution_count": 29,
   "metadata": {},
   "outputs": [],
   "source": [
    "import numpy as np\n",
    "import matplotlib.pyplot as plt\n",
    "from sys import exit\n",
    "np.random.seed(1)"
   ]
  },
  {
   "cell_type": "code",
   "execution_count": 30,
   "metadata": {},
   "outputs": [],
   "source": [
    "from keras.datasets import mnist"
   ]
  },
  {
   "cell_type": "code",
   "execution_count": 31,
   "metadata": {},
   "outputs": [],
   "source": [
    "(x_train, y_train), (x_test, y_test) = mnist.load_data()"
   ]
  },
  {
   "cell_type": "code",
   "execution_count": 32,
   "metadata": {},
   "outputs": [
    {
     "data": {
      "text/plain": [
       "((1000, 784), (1000,))"
      ]
     },
     "execution_count": 32,
     "metadata": {},
     "output_type": "execute_result"
    }
   ],
   "source": [
    "images, labels = (x_train[:1000].reshape(1000, 28*28) / 255, y_train[:1000])\n",
    "images.shape, labels.shape"
   ]
  },
  {
   "cell_type": "code",
   "execution_count": 33,
   "metadata": {},
   "outputs": [],
   "source": [
    "one_hot_labels = np.zeros(shape=(labels.shape[0], 10))\n",
    "for i, v in enumerate(labels):\n",
    "    one_hot_labels[i][v] = 1\n",
    "labels = one_hot_labels"
   ]
  },
  {
   "cell_type": "code",
   "execution_count": 34,
   "metadata": {},
   "outputs": [],
   "source": [
    "test_images = x_test.reshape(x_test.shape[0], 28*28) / 255\n",
    "test_labels = np.zeros(shape=(y_test.shape[0], 10))\n",
    "for i, v in enumerate(y_test):\n",
    "    test_labels[i][v] = 1"
   ]
  },
  {
   "cell_type": "code",
   "execution_count": 35,
   "metadata": {},
   "outputs": [],
   "source": [
    "# activation functions\n",
    "def tanh(x):\n",
    "    return np.tanh(x)\n",
    "\n",
    "def grad_tanh(y):\n",
    "    return 1 - y**2\n",
    "\n",
    "def softmax(x):\n",
    "    exps = np.exp(x)\n",
    "    return exps/np.sum(exps, axis=1, keepdims=True)"
   ]
  },
  {
   "cell_type": "code",
   "execution_count": 36,
   "metadata": {},
   "outputs": [],
   "source": [
    "lr, epochs = (2, 300)\n",
    "pixels_per_image, num_labels = (784, 10)\n",
    "batch_size = 128\n",
    "\n",
    "input_rows, input_cols = (28, 28)\n",
    "kernel_rows, kernel_cols = (3, 3)\n",
    "num_kernels = 16"
   ]
  },
  {
   "cell_type": "code",
   "execution_count": 37,
   "metadata": {},
   "outputs": [],
   "source": [
    "# Hidden is of that size because we are training a 1-D Convolutional Layer, not a 2D, and so it's taking more space (try it).\n",
    "hidden_size = ((input_rows-kernel_rows+1) * (input_cols-kernel_cols+1)) * num_kernels"
   ]
  },
  {
   "cell_type": "code",
   "execution_count": 38,
   "metadata": {},
   "outputs": [
    {
     "data": {
      "text/plain": [
       "((9, 16), (10816, 10))"
      ]
     },
     "execution_count": 38,
     "metadata": {},
     "output_type": "execute_result"
    }
   ],
   "source": [
    "kernels = 0.02*np.random.random((kernel_rows*kernel_cols, num_kernels)) - 0.01\n",
    "weights_1_2 = 0.2*np.random.random((hidden_size, num_labels)) - 0.1\n",
    "\n",
    "kernels.shape, weights_1_2.shape"
   ]
  },
  {
   "cell_type": "code",
   "execution_count": 39,
   "metadata": {},
   "outputs": [],
   "source": [
    "def get_image_section(layer, row_from, row_to, col_from, col_to):\n",
    "    sub_section = layer[:, row_from:row_to, col_from:col_to]\n",
    "    return sub_section.reshape(-1, 1, row_to-row_from, col_to-col_from)"
   ]
  },
  {
   "cell_type": "code",
   "execution_count": null,
   "metadata": {},
   "outputs": [],
   "source": [
    "# Training Loop\n",
    "for epoch in range(epochs):  # for each epoch\n",
    "    correct_count = 0\n",
    "    for batch in range(int(len(images) / batch_size)):  # for each batch\n",
    "        batch_start, batch_end = (batch*batch_size), ((batch+1)*batch_size)\n",
    "        \n",
    "        # get input\n",
    "        layer_0 = images[batch_start:batch_end]\n",
    "        layer_0 = layer_0.reshape(layer_0.shape[0], 28, 28)\n",
    "        \n",
    "        # extract all sections from all batch images\n",
    "        sections = list()\n",
    "        for row_start in range(layer_0.shape[1]-kernel_rows+1):  # +1 by akramz.\n",
    "            for col_start in range(layer_0.shape[2]-kernel_cols+1):\n",
    "                section = get_image_section(layer_0, row_start, row_start+kernel_rows, col_start, col_start+kernel_cols)\n",
    "                sections.append(section)\n",
    "        # [0] 128 batch elements, [1] 676 sections/image, 3x3 section size \n",
    "        expanded_input = np.concatenate(sections, axis=1)\n",
    "        \n",
    "        es = expanded_input.shape\n",
    "        # shape: (128x676, 3x3)\n",
    "        flattened_input = expanded_input.reshape(es[0]*es[1], -1)  # WEIRD STUFF ????\n",
    "        \n",
    "        # forward propagation\n",
    "        kernel_output = flattened_input.dot(kernels)  # 16 kernels\n",
    "        layer_1 = tanh(kernel_output.reshape(es[0], -1))\n",
    "        dropout_mask = np.random.randint(2, size=layer_1.shape)\n",
    "        layer_1 *= dropout_mask*2\n",
    "        layer_2 = softmax(np.dot(layer_1, weights_1_2))\n",
    "        \n",
    "        # count corrects\n",
    "        for k in range(batch_size):\n",
    "            labelset = labels[batch_start+k:batch_start+k+1]\n",
    "            _inc = int(np.argmax(layer_2[k:k+1]) == np.argmax(labelset))\n",
    "            correct_count += _inc\n",
    "        \n",
    "        # back propagation\n",
    "        layer_2_delta = (labels[batch_start:batch_end]-layer_2)/(batch_size*layer_2.shape[0])\n",
    "        layer_1_delta = layer_2_delta.dot(weights_1_2.T) * grad_tanh(layer_1)\n",
    "        layer_1_delta *= dropout_mask\n",
    "        weights_1_2 += lr * layer_1.T.dot(layer_2_delta)\n",
    "        l1d_reshape = layer_1_delta.reshape(kernel_output.shape)\n",
    "        k_udpate = flattened_input.T.dot(l1d_reshape)\n",
    "        kernels -= lr * k_udpate\n",
    "        \n",
    "        # test\n",
    "        test_correct_count = 0\n",
    "        for i in range(len(test_images)):\n",
    "            layer_0 = test_images[i:i+1]\n",
    "            layer_0 = layer_0.reshape(layer_0.shape[0], 28, 28)\n",
    "            sections = list()\n",
    "            for row_start in range(layer_0.shape[1]-kernel_rows+1):\n",
    "                for col_start in range(layer_0.shape[2]-kernel_cols+1):\n",
    "                    section = get_image_section(layer_0, row_start, row_start+kernel_rows, col_start, col_start+kernel_cols)\n",
    "                    sections.append(section)\n",
    "            expanded_input = np.concatenate(sections, axis=1)\n",
    "            es = expanded_input.shape\n",
    "            flattened_input = expanded_input.reshape(es[0]*es[1],-1)\n",
    "            kernel_output = flattened_input.dot(kernels) \n",
    "            layer_1 = tanh(kernel_output.reshape(es[0],-1)) \n",
    "            layer_2 = np.dot(layer_1,weights_1_2)\n",
    "            test_correct_count += int(np.argmax(layer_2) == np.argmax(test_labels[i:i+1]))\n",
    "        \n",
    "    if(epoch % 1 == 0): \n",
    "        print(\"\\n\"+ \"I:\" + str(epoch) + \" Test-Acc:\"+str(test_correct_count/float(len(test_images)))+ \" Train-Acc:\" + str(correct_count/float(len(images))))"
   ]
  },
  {
   "cell_type": "markdown",
   "metadata": {},
   "source": [
    "- As you can see, swapping out the first layer from the network in chapter 9 with a convolutional layer gives another few percentage points in error reduction.\n",
    "- **The output of the convolutional layer is itself also a series of two-dimensional images**.\n",
    "- Most uses of convolutional layers stack multiple layers on top of each other.\n",
    "    - such that each layer treats the previous output as its input.\n",
    "- **Stacked Convolutional Layers are one of the main developments that allowed for very deep neural networks.**\n",
    "    - & by extension, the popularization of the phrase \"deep learning\".\n",
    "- **It can't be overstressed that this invension was a landmark moment for the field; without it, we might still be in the previous AI Winter even at the time of writing**."
   ]
  },
  {
   "cell_type": "markdown",
   "metadata": {},
   "source": [
    "## Summary\n",
    "### Reusing weights is one of the most important innovations in deep learning"
   ]
  },
  {
   "cell_type": "markdown",
   "metadata": {},
   "source": [
    "- The notion of reusing weights to increase accuracy is hugely important and has an intuitive basis.\n",
    "- **Consider what you need to understand to detect that a cat is in an image.**\n",
    "    - You first need to understand **colors**.\n",
    "    - then **lines and edges**.\n",
    "    - **Corners & small shapes**.\n",
    "    - & finally the combination of such low-level features that corresponds to a cat.\n",
    "- NNs also need to learn such low-level features.\n",
    "- The intelligence for detecting lines and edges is learned in its weights.\n",
    "- **But if you use different weights to analyze different parts of an image, each section of the weights has to learn what a line is.**\n",
    "- **The Structure Trick**\n",
    "    - **When a Neural Network needs to use the same idea in multiple places, endeavor to use the same weights in multiple places.**\n",
    "    - This will make the weights more intelligent by giving them more samples (sections) to learn from, increasing generalization.\n",
    "- Many of the biggest developments in deep learning over the past five years are iterations of this idea:\n",
    "    - CNNs, RNNs, Word Embeddings, & the recently published capsule networks can all be viewed through this lens.\n",
    "- When you know you'll need the same idea in multiple places, force it to use the same weights in those places."
   ]
  }
 ],
 "metadata": {
  "kernelspec": {
   "display_name": "Python 3",
   "language": "python",
   "name": "python3"
  },
  "language_info": {
   "codemirror_mode": {
    "name": "ipython",
    "version": 3
   },
   "file_extension": ".py",
   "mimetype": "text/x-python",
   "name": "python",
   "nbconvert_exporter": "python",
   "pygments_lexer": "ipython3",
   "version": "3.6.7"
  }
 },
 "nbformat": 4,
 "nbformat_minor": 2
}
