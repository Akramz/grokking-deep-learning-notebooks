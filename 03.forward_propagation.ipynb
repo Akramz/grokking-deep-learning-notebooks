{
 "cells": [
  {
   "cell_type": "code",
   "execution_count": 1,
   "metadata": {},
   "outputs": [],
   "source": [
    "# default_exp forward\n",
    "# default_cls_lvl 2"
   ]
  },
  {
   "cell_type": "markdown",
   "metadata": {},
   "source": [
    "# Introduction to Neural Prediction: Forward Propagation\n",
    ">"
   ]
  },
  {
   "cell_type": "markdown",
   "metadata": {},
   "source": [
    "In this Chapter:\n",
    "- A Simple Network Making a Prediction.\n",
    "- What is a Neural Network, and What does it do ?\n",
    "- Making a Prediction with Multiple Inputs.\n",
    "- Making a Prediction with Multiple Outputs.\n",
    "- Making a Prediction with Multiple Inputs and Outputs.\n",
    "- Predicting on Predictions.\n",
    "\n",
    "*\"I Try not to get envolved in the Business of Prediction. It's a Quick way to look like an Idiot.\"*"
   ]
  },
  {
   "cell_type": "markdown",
   "metadata": {},
   "source": [
    "## 1. Predict \n",
    "### This Chapter is about prediction"
   ]
  },
  {
   "cell_type": "markdown",
   "metadata": {},
   "source": [
    "- You learned about the paradigm \"Predict, Compare, Learn.\", in This Chapter, We'll dive deep into the first step \"**Predict**\".\n",
    "- In your first Neural Network, you're going to predict one data point at a time, like so:\n",
    "<div style=\"text-align:center;\"><img style=\"width:600px;\" src=\"static/imgs/03/one-to-one.png\" /></div>"
   ]
  },
  {
   "cell_type": "markdown",
   "metadata": {},
   "source": [
    "- The number of data points you process has a significant impact on what a network looks like.\n",
    "- \"How do I choose the number of data points I propagate at a time?\"\n",
    "    - The Answer is based on whether you think the neural network can be accurate with the data you give it.\n",
    "    - If i'm trying to predict the presence of a cat in a picture, I definitely want to send all the pixels of the image.\n",
    "        - can you predict cat presence with one pixel ? Me Neither !\n",
    "- You can create a network only after you understand the `shape` of the input & output data sets."
   ]
  },
  {
   "cell_type": "markdown",
   "metadata": {},
   "source": [
    "- You're going to build a network with a single knob mapping from the input point to the output.\n",
    "    - These knobs are actually called \"weights\".\n",
    "- Here's your first network, with a single weight mapping from the input \"# toes\" to the output \"win?\":\n",
    "<div style=\"text-align:center;\"><img style=\"width:600px;\" src=\"static/imgs/03/first-network.png\" /></div>"
   ]
  },
  {
   "cell_type": "markdown",
   "metadata": {},
   "source": [
    "## A Simple Neural Network Making a prediction\n",
    "### Let's Start with the simplest neural network possible"
   ]
  },
  {
   "cell_type": "code",
   "execution_count": 1,
   "metadata": {},
   "outputs": [],
   "source": [
    "# an empty network.\n",
    "weight = .1\n",
    "def neural_network(input, weight):\n",
    "    prediction = input * weight\n",
    "    return prediction"
   ]
  },
  {
   "cell_type": "code",
   "execution_count": 2,
   "metadata": {},
   "outputs": [
    {
     "name": "stdout",
     "output_type": "stream",
     "text": [
      "0.8500000000000001\n"
     ]
    }
   ],
   "source": [
    "# inserting one input datapoint.\n",
    "number_of_toes = [8.5, 9.5, 10, 9]\n",
    "input = number_of_toes[0]\n",
    "pred = neural_network(input, weight)\n",
    "print(pred)"
   ]
  },
  {
   "cell_type": "markdown",
   "metadata": {},
   "source": [
    "- So What is a Neural Network ?\n",
    "    - For Now, It's one or more weights that you can multiply by the input data to make a prediction.\n",
    "- What is Input Data ?\n",
    "    - It's a number that you recorded in the real world somewhere.\n",
    "- What is a Prediction ?\n",
    "    - A Prediction is what the neural network tells you, given the input data.\n",
    "- Is this Prediction always right ?\n",
    "    - No. Sometimes the neural network will make mistakes, but it can learn from them.\n",
    "- How does the network learn ?\n",
    "    - **Trial and Error**.\n",
    "    - First, it tries to make a prediction.\n",
    "    - Then, it sees whether the prediction was too high or too low.\n",
    "    - Finally, it changes the weight (up or down) to predict more accurately the next time it sees the same input."
   ]
  },
  {
   "cell_type": "markdown",
   "metadata": {},
   "source": [
    "## What Does this neural network do ?\n",
    "### It multiplies the Input by a Weight. It \"Scales\" the Input by a Certain Amount"
   ]
  },
  {
   "cell_type": "markdown",
   "metadata": {},
   "source": [
    "- A neural network, in its simplest form, uses the power of *multiplication*.\n",
    "- Some Weight Values make the Input Bigger, & other values make it Smaller.\n",
    "- **A Neural Network Accepts an Input Value as Information and a Weight Value as Knowledge and Outputs a Prediction**.\n",
    "- A NN uses the knowledge stored in its weights to interpret the Information in the Input.\n",
    "- In the Previous Example, The **NN Doesn't have access to any information except one instance**.\n",
    "    - If, After this Prediction, you were to feed in `number_of_toes[1]`, the NN wouldn't remember the prediction it made in the last timestep.\n",
    "    - A NN knows only what you feed it as input, it forgets everything else.\n",
    "- Later, You'll learn how to give a NN a **\"Short-term memory\" by feeding in multiple inputs at once**.\n",
    "- the Weights can be interpreted as a measure of sensitivity between the input and the prediction.\n",
    "    - Weight is a Volume Knob."
   ]
  },
  {
   "cell_type": "markdown",
   "metadata": {},
   "source": [
    "## Making a Prediction with Multiple Inputs\n",
    "### Neural Networks can Combine Intelligence from multiple Data Points\n",
    "\n",
    "<div style=\"text-align:center;\"><img style=\"width:333px;\" src=\"static/imgs/03/many-to-one.png\" /></div>"
   ]
  },
  {
   "cell_type": "code",
   "execution_count": 3,
   "metadata": {},
   "outputs": [],
   "source": [
    "# input [list], weights [list]: my implementation.\n",
    "def w_sum(ws, ins):\n",
    "    # should've added `assert` to force rules on inputs.\n",
    "    muls = []\n",
    "    for i in range(len(ws)):\n",
    "        muls.append(ws[i]*ins[i])\n",
    "    return sum(muls)"
   ]
  },
  {
   "cell_type": "code",
   "execution_count": 11,
   "metadata": {},
   "outputs": [],
   "source": [
    "# Book's Implementation.\n",
    "def w_sum(a,b):\n",
    "    assert(len(a) == len(b))\n",
    "    output = 0\n",
    "    for i in range(len(a)):\n",
    "        output += (a[i] * b[i])\n",
    "    return output"
   ]
  },
  {
   "cell_type": "code",
   "execution_count": 4,
   "metadata": {},
   "outputs": [],
   "source": [
    "# An empty network with multiple inputs.\n",
    "weights = [.1, .2, 0]\n",
    "def neural_network(input, weights):\n",
    "    pred = w_sum(input, weights)\n",
    "    return pred"
   ]
  },
  {
   "cell_type": "markdown",
   "metadata": {},
   "source": [
    "This data set is the current status at the beginning of each game for the first four games in a season:\n",
    "- *toes*: current average number of toes per player.\n",
    "- *wlrec*: current games won (in precent)\n",
    "- *nfans*: fan count (in millions)"
   ]
  },
  {
   "cell_type": "code",
   "execution_count": 5,
   "metadata": {},
   "outputs": [],
   "source": [
    "toes = [8.5, 9.5, 9.9, 9]\n",
    "wlrec = [.65, .8, .8, .9]\n",
    "nfans = [1.2, 1.3, .5, 1]\n",
    "input = [toes[0], wlrec[0], nfans[0]]"
   ]
  },
  {
   "cell_type": "code",
   "execution_count": 6,
   "metadata": {},
   "outputs": [
    {
     "data": {
      "text/plain": [
       "0.9800000000000001"
      ]
     },
     "execution_count": 6,
     "metadata": {},
     "output_type": "execute_result"
    }
   ],
   "source": [
    "neural_network(input, weights)"
   ]
  },
  {
   "cell_type": "markdown",
   "metadata": {},
   "source": [
    "## Multiple Inputs: What Does this Network Do?\n",
    "### It Multiples 3 Inputs by 3 Knob Weights & Sums them.\n",
    "### This is a Weighted Sum."
   ]
  },
  {
   "cell_type": "markdown",
   "metadata": {},
   "source": [
    "- You Multiply Each Input by its own weight.\n",
    "- Because you have multiple inputs, you have to sum their respective local predictions.\n",
    "- This is called the weighted Sum, or the Dot Product."
   ]
  },
  {
   "cell_type": "markdown",
   "metadata": {},
   "source": [
    "#### Challenge: Vector Math\n",
    "Being able to manipulate vectors is a cornerstore technique for deep learning. See if you can write functions that perform the following operations:"
   ]
  },
  {
   "cell_type": "code",
   "execution_count": 10,
   "metadata": {},
   "outputs": [],
   "source": [
    "def elementwise_multiplication(vec_a, vec_b):\n",
    "    assert(len(vec_a) == len(vec_b))\n",
    "    c = []\n",
    "    for i in range(len(vec_a)):\n",
    "        c.append(vec_a[i] * vec_b[i])\n",
    "    return c"
   ]
  },
  {
   "cell_type": "code",
   "execution_count": 12,
   "metadata": {},
   "outputs": [],
   "source": [
    "def elementwise_addition(vec_a, vec_b):\n",
    "    assert(len(vec_a) == len(vec_b))\n",
    "    c = []\n",
    "    for i in range(len(vec_b)):\n",
    "        c.append(vec_a[i] + vec_b[i])\n",
    "    return c"
   ]
  },
  {
   "cell_type": "code",
   "execution_count": 21,
   "metadata": {},
   "outputs": [],
   "source": [
    "def vector_sum(vec_a):\n",
    "    assert(type(vec_a) == type([]))\n",
    "    return sum(vec_a)"
   ]
  },
  {
   "cell_type": "code",
   "execution_count": 24,
   "metadata": {},
   "outputs": [],
   "source": [
    "def vector_avg(vec_a):\n",
    "    assert(type(vec_a) == type([]))\n",
    "    return (sum(vec_a)/len(vec_a))"
   ]
  },
  {
   "cell_type": "code",
   "execution_count": 26,
   "metadata": {},
   "outputs": [
    {
     "data": {
      "text/plain": [
       "32"
      ]
     },
     "execution_count": 26,
     "metadata": {},
     "output_type": "execute_result"
    }
   ],
   "source": [
    "a, b = [1,2,3], [4,5,6]\n",
    "vector_sum(elementwise_multiplication(a, b))"
   ]
  },
  {
   "cell_type": "markdown",
   "metadata": {},
   "source": [
    "- The Intuition behind how & why a dot product works is easily one of the most important parts of truly understanding how neural networks make predictions.\n",
    "- Loosly stated, **A Dot Product Gives you a Notion of Similarity between Two vectors**.\n",
    "- Consider the following example:\n",
    "<div style=\"text-align:center;\"><img style=\"width:666px;\" src=\"static/imgs/03/dot-product.png\" /></div>"
   ]
  },
  {
   "cell_type": "markdown",
   "metadata": {},
   "source": [
    "- You can Equate the properties of the dot product to the logical `AND`.\n",
    "- Neural Networks are also able to model partial `AND`ing.\n",
    "- In this Analogy, Negative weights tend to imply a Logical `NOT` operator.\n",
    "    - Any positive weight paired with a negative weight will cause the overall score to go down.\n",
    "- After `AND`s, Comes the `OR`s, because if any of the rows show weight, the score is affected.\n",
    "- Amusingly, this gives us a kind of crude language for reading weights.\n",
    "- The following examples assume you're performing the dot product and the `then` to these `if` statements is an abstract \"then give high score\":\n",
    "\n",
    "<div style=\"text-align:center;\"><img style=\"width:666px;\" src=\"static/imgs/03/dot-product-analysis.png\" /></div>\n",
    "\n",
    "- This Analogy will help you significantly in the future, especially when putting networks together in increasingly complex ways."
   ]
  },
  {
   "cell_type": "markdown",
   "metadata": {},
   "source": [
    "- **The Neural Network Gives a High score to the Input Most similar to the Weights**.\n",
    "- Notice that `nfans` is completely ignored in the prediction because the weight associated with it is $0$.\n",
    "- **You Can't Shuffle Weights**"
   ]
  },
  {
   "cell_type": "markdown",
   "metadata": {},
   "source": [
    "## Multiple Inputs: Complete Runnable Code"
   ]
  },
  {
   "cell_type": "markdown",
   "metadata": {},
   "source": [
    "- There is a Python Library called `NumPy`. Which stands for \"Numerical Python\".\n",
    "- Here is the same Code using `NumPy`:"
   ]
  },
  {
   "cell_type": "code",
   "execution_count": 2,
   "metadata": {},
   "outputs": [],
   "source": [
    "import numpy as np"
   ]
  },
  {
   "cell_type": "code",
   "execution_count": 5,
   "metadata": {},
   "outputs": [],
   "source": [
    "weights = np.array([.1, .2, 0])\n",
    "toes = [8.5, 9.5, 9.9, 9]\n",
    "wlrec = [.65, .8, .8, .9]\n",
    "nfans = [1.2, 1.3, .5, 1]\n",
    "def neural_network(weights, input):\n",
    "    assert(weights.shape[0] == input.shape[0])\n",
    "    return np.dot(weights, input)"
   ]
  },
  {
   "cell_type": "code",
   "execution_count": 6,
   "metadata": {},
   "outputs": [
    {
     "data": {
      "text/plain": [
       "0.9800000000000001"
      ]
     },
     "execution_count": 6,
     "metadata": {},
     "output_type": "execute_result"
    }
   ],
   "source": [
    "neural_network(weights, np.array([toes[0], wlrec[0], nfans[0]]))"
   ]
  },
  {
   "cell_type": "markdown",
   "metadata": {},
   "source": [
    "## Making a Prediction with Multiple Outputs\n",
    "### Neural Networks can also make multiple predictions using only a single input."
   ]
  },
  {
   "cell_type": "markdown",
   "metadata": {},
   "source": [
    "- Prediction occurs the same as if there were three disconnected single-weight neural networks.\n",
    "<div style=\"text-align:center;\"><img style=\"width:333px;\" src=\"static/imgs/03/NN-1-to-many.png\" /></div>"
   ]
  },
  {
   "cell_type": "code",
   "execution_count": 7,
   "metadata": {},
   "outputs": [],
   "source": [
    "def neural_network(weights, input):\n",
    "    return input * weights"
   ]
  },
  {
   "cell_type": "code",
   "execution_count": 8,
   "metadata": {},
   "outputs": [
    {
     "data": {
      "text/plain": [
       "array([0.6, 2.1, 0. ])"
      ]
     },
     "execution_count": 8,
     "metadata": {},
     "output_type": "execute_result"
    }
   ],
   "source": [
    "neural_network(np.array([3]), np.array([.2, .7, 0]))"
   ]
  },
  {
   "cell_type": "code",
   "execution_count": 9,
   "metadata": {},
   "outputs": [],
   "source": [
    "# Book's Implementation.\n",
    "weights = [.3, .2, .9]\n",
    "def neural_network(weights, input):\n",
    "    pred = ele_mul(input, weights)\n",
    "    return pred"
   ]
  },
  {
   "cell_type": "code",
   "execution_count": 10,
   "metadata": {},
   "outputs": [],
   "source": [
    "# let's implement `ele_mul`:\n",
    "def ele_mul(c, l):\n",
    "    assert(type(c) == type(0))\n",
    "    result = []\n",
    "    for i in range(len(l)):\n",
    "        result.append(c * l[i])\n",
    "    return result"
   ]
  },
  {
   "cell_type": "markdown",
   "metadata": {},
   "source": [
    "- **Notice that the 3 predictions are completely separate. Unlike NNs w/ multiple inputs & single output, this network truly behaves as three independant components, each receiving the same input data.**"
   ]
  },
  {
   "cell_type": "markdown",
   "metadata": {},
   "source": [
    "## Predicting with Multiple Inputs & Outputs\n",
    "### Neural Networks can predict Multiple Outputs Given Multiple Inputs"
   ]
  },
  {
   "cell_type": "markdown",
   "metadata": {},
   "source": [
    "<div style=\"text-align:center;\"><img style=\"width:222px;\" src=\"static/imgs/03/NN-many-to-many.png\" /></div>"
   ]
  },
  {
   "cell_type": "code",
   "execution_count": 3,
   "metadata": {},
   "outputs": [],
   "source": [
    "        # toes # %win # fans\n",
    "weights = [[.1, .1, -.3],  # 1st Neuron: Hurt ?\n",
    "           [.1, .2, .0],   # win ?\n",
    "           [.0, 1.3, .1]]  # Sad ?"
   ]
  },
  {
   "cell_type": "code",
   "execution_count": 4,
   "metadata": {},
   "outputs": [],
   "source": [
    "def neural_network(input, weights):\n",
    "    pred = vect_mat_mult(input, weights)\n",
    "    return pred"
   ]
  },
  {
   "cell_type": "code",
   "execution_count": 12,
   "metadata": {},
   "outputs": [],
   "source": [
    "# Input [R_{1x3}] ; Weights [R_{3x3}]\n",
    "def vect_mat_mult(vect, matrix):\n",
    "    assert(len(vect) == len(matrix))\n",
    "    output = [0, 0, 0]\n",
    "    for i in range(len(vect)):\n",
    "        output[i] = w_sum(vect, matrix[i])\n",
    "    return output"
   ]
  },
  {
   "cell_type": "code",
   "execution_count": 13,
   "metadata": {},
   "outputs": [],
   "source": [
    "# inputs.\n",
    "toes = [8.5, 9.5, 9.9, 9.0]\n",
    "wlrec = [.65, .8, .8, .9]\n",
    "nfans = [1.2, 1.3, .5, 1.0]"
   ]
  },
  {
   "cell_type": "code",
   "execution_count": 14,
   "metadata": {},
   "outputs": [],
   "source": [
    "# one column.\n",
    "input = [toes[0], wlrec[0], nfans[0]]"
   ]
  },
  {
   "cell_type": "code",
   "execution_count": 15,
   "metadata": {},
   "outputs": [
    {
     "data": {
      "text/plain": [
       "[0.555, 0.9800000000000001, 0.9650000000000001]"
      ]
     },
     "execution_count": 15,
     "metadata": {},
     "output_type": "execute_result"
    }
   ],
   "source": [
    "pred = neural_network(input, weights); pred"
   ]
  },
  {
   "cell_type": "markdown",
   "metadata": {},
   "source": [
    "## Multiple Inputs & Outputs: How does it work ?\n",
    "### It performs three independent weighted sums of the input to make three predictions"
   ]
  },
  {
   "cell_type": "markdown",
   "metadata": {},
   "source": [
    "<div style=\"text-align:center;\"><img style=\"width:333px;\" src=\"static/imgs/03/many-to-many-NN.png\" /></div>"
   ]
  },
  {
   "cell_type": "markdown",
   "metadata": {},
   "source": [
    "- Think of it as three weights going into each output nodes\n",
    "- Think about this neural network as three independent dot products: three independent weighted sums of the input.\n",
    "- A list of vectors is called a matrix."
   ]
  },
  {
   "cell_type": "markdown",
   "metadata": {},
   "source": [
    "## Predicting on Predictions \n",
    "### Neural Networks can be Stacked!"
   ]
  },
  {
   "cell_type": "markdown",
   "metadata": {},
   "source": [
    "<div style=\"text-align:center;\"><img style=\"width:333px;\" src=\"static/imgs/03/deep-NN.png\" /></div>\n",
    "\n",
    "- You can also take the output of one network and feed it as input to another network.\n",
    "- This results in two consecutive vector-matrix multiplications."
   ]
  },
  {
   "cell_type": "code",
   "execution_count": 32,
   "metadata": {},
   "outputs": [],
   "source": [
    "# A Network with multiple inputs and outputs.\n",
    "ih_wgt = [[0.1, 0.2, -0.1],\n",
    "          [-0.1,0.1, 0.9],\n",
    "          [0.1, 0.4, 0.1]]\n",
    "hp_wgt = [[0.3, 1.1, -0.3],\n",
    "          [0.1, 0.2, 0.0],\n",
    "          [0.0, 1.3, 0.1]]"
   ]
  },
  {
   "cell_type": "code",
   "execution_count": 19,
   "metadata": {},
   "outputs": [],
   "source": [
    "weights = [ih_wgt, hp_wgt]"
   ]
  },
  {
   "cell_type": "code",
   "execution_count": 20,
   "metadata": {},
   "outputs": [],
   "source": [
    "def neural_network(input, weights):\n",
    "    hid = vect_mat_mult(input, weights[0])\n",
    "    pred = vect_mat_mult(hid, weights[1])\n",
    "    return pred"
   ]
  },
  {
   "cell_type": "code",
   "execution_count": 23,
   "metadata": {},
   "outputs": [
    {
     "data": {
      "text/plain": [
       "[0.21350000000000002, 0.14500000000000002, 0.5065]"
      ]
     },
     "execution_count": 23,
     "metadata": {},
     "output_type": "execute_result"
    }
   ],
   "source": [
    "pred = neural_network(input, weights); pred"
   ]
  },
  {
   "cell_type": "markdown",
   "metadata": {},
   "source": [
    "The following listing shows you how you can do the same operations coded in the previous section using a convenient Python library called `Numpy`. Using Libraries like `Numpy` makes your code faster and easier to read and write."
   ]
  },
  {
   "cell_type": "code",
   "execution_count": 24,
   "metadata": {},
   "outputs": [],
   "source": [
    "import numpy as np "
   ]
  },
  {
   "cell_type": "code",
   "execution_count": 33,
   "metadata": {},
   "outputs": [],
   "source": [
    "ih_wgt = np.array(ih_wgt).transpose()  # fixing book error.\n",
    "hp_wgt = np.array(hp_wgt).transpose()  # fixing book error.\n",
    "weights = [ih_wgt, hp_wgt]"
   ]
  },
  {
   "cell_type": "code",
   "execution_count": 34,
   "metadata": {},
   "outputs": [],
   "source": [
    "def neural_network(input, weights):\n",
    "    out = input.dot(weights[0])\n",
    "    pred = out.dot(weights[1])\n",
    "    return pred"
   ]
  },
  {
   "cell_type": "code",
   "execution_count": 35,
   "metadata": {},
   "outputs": [],
   "source": [
    "toes = np.array(toes)\n",
    "wlrec = np.array(wlrec)\n",
    "nfans = np.array(nfans)"
   ]
  },
  {
   "cell_type": "code",
   "execution_count": 36,
   "metadata": {},
   "outputs": [],
   "source": [
    "input = np.array([toes[0], wlrec[0], nfans[0]])"
   ]
  },
  {
   "cell_type": "code",
   "execution_count": 37,
   "metadata": {},
   "outputs": [
    {
     "data": {
      "text/plain": [
       "array([0.2135, 0.145 , 0.5065])"
      ]
     },
     "execution_count": 37,
     "metadata": {},
     "output_type": "execute_result"
    }
   ],
   "source": [
    "pred = neural_network(input, weights); pred"
   ]
  },
  {
   "cell_type": "markdown",
   "metadata": {},
   "source": [
    "## A Quick Primer on NumPy\n",
    "## NumPy does a few things for you, let's reveal the magic."
   ]
  },
  {
   "cell_type": "markdown",
   "metadata": {},
   "source": [
    "- You'll keep using native python functions to be sure you fully understand what's going on inside them.\n",
    "- If you create a matrix with only one row, you are creating a vector.\n",
    "- You create matrices by listing (rows, columns): **Rows Come first, Columns come Second**\n",
    "- Let's check some examples:"
   ]
  },
  {
   "cell_type": "code",
   "execution_count": 38,
   "metadata": {},
   "outputs": [],
   "source": [
    "a = np.array([0,1,2,3])  # a vector.\n",
    "b = np.array([4,5,6,7])  # another vector.\n",
    "c = np.array([[0,1,2,3], [4,5,6,7]])  # A Matrix.\n",
    "d = np.zeros((2,4))  # 2x4 matrix of zeros.\n",
    "e = np.random.rand(2,5)  # 2x5 matrix of random number between 0 & 1."
   ]
  },
  {
   "cell_type": "code",
   "execution_count": 39,
   "metadata": {},
   "outputs": [
    {
     "name": "stdout",
     "output_type": "stream",
     "text": [
      "[0 1 2 3] [4 5 6 7] [[0 1 2 3]\n",
      " [4 5 6 7]] [[0. 0. 0. 0.]\n",
      " [0. 0. 0. 0.]] [[0.93936902 0.03476097 0.02302402 0.54727859 0.34876852]\n",
      " [0.54575811 0.76579746 0.58947409 0.07631537 0.00246894]]\n"
     ]
    }
   ],
   "source": [
    "print(a,b,c,d,e)"
   ]
  },
  {
   "cell_type": "code",
   "execution_count": 40,
   "metadata": {},
   "outputs": [
    {
     "name": "stdout",
     "output_type": "stream",
     "text": [
      "[0.  0.2 0.4 0.6]\n"
     ]
    }
   ],
   "source": [
    "# element-wise multiplication.\n",
    "print(a*.2)"
   ]
  },
  {
   "cell_type": "code",
   "execution_count": 41,
   "metadata": {},
   "outputs": [
    {
     "name": "stdout",
     "output_type": "stream",
     "text": [
      "[[0.  0.1 0.2 0.3]\n",
      " [0.4 0.5 0.6 0.7]]\n"
     ]
    }
   ],
   "source": [
    "# element-wise multiplication.\n",
    "print(c*.1)"
   ]
  },
  {
   "cell_type": "code",
   "execution_count": 42,
   "metadata": {},
   "outputs": [
    {
     "name": "stdout",
     "output_type": "stream",
     "text": [
      "[ 0  5 12 21]\n"
     ]
    }
   ],
   "source": [
    "# multiply two vectors (element wise).\n",
    "print(a*b)"
   ]
  },
  {
   "cell_type": "code",
   "execution_count": 43,
   "metadata": {},
   "outputs": [
    {
     "name": "stdout",
     "output_type": "stream",
     "text": [
      "[0.  1.5 3.6 6.3]\n"
     ]
    }
   ],
   "source": [
    "# complex element-wise multiplications.\n",
    "print(a*b*.3)"
   ]
  },
  {
   "cell_type": "code",
   "execution_count": 44,
   "metadata": {},
   "outputs": [
    {
     "name": "stdout",
     "output_type": "stream",
     "text": [
      "[[ 0  1  4  9]\n",
      " [ 0  5 12 21]]\n"
     ]
    }
   ],
   "source": [
    "# element-wise row multiplications (because of compatible shapes).\n",
    "print(a*c)"
   ]
  },
  {
   "cell_type": "code",
   "execution_count": 45,
   "metadata": {},
   "outputs": [
    {
     "ename": "ValueError",
     "evalue": "operands could not be broadcast together with shapes (4,) (2,5) ",
     "output_type": "error",
     "traceback": [
      "\u001b[0;31m---------------------------------------------------------------------------\u001b[0m",
      "\u001b[0;31mValueError\u001b[0m                                Traceback (most recent call last)",
      "\u001b[0;32m<ipython-input-45-82387bc21b72>\u001b[0m in \u001b[0;36m<module>\u001b[0;34m\u001b[0m\n\u001b[1;32m      1\u001b[0m \u001b[0;31m# error in case of incompatible shapes.\u001b[0m\u001b[0;34m\u001b[0m\u001b[0;34m\u001b[0m\u001b[0;34m\u001b[0m\u001b[0m\n\u001b[0;32m----> 2\u001b[0;31m \u001b[0mprint\u001b[0m\u001b[0;34m(\u001b[0m\u001b[0ma\u001b[0m\u001b[0;34m*\u001b[0m\u001b[0me\u001b[0m\u001b[0;34m)\u001b[0m\u001b[0;34m\u001b[0m\u001b[0;34m\u001b[0m\u001b[0m\n\u001b[0m",
      "\u001b[0;31mValueError\u001b[0m: operands could not be broadcast together with shapes (4,) (2,5) "
     ]
    }
   ],
   "source": [
    "# error in case of incompatible shapes.\n",
    "print(a*e)"
   ]
  },
  {
   "cell_type": "markdown",
   "metadata": {},
   "source": [
    "- When you multiply two variables with the * function, NumPy Automatically detects what kind of variables you are working with and tries to figure out what kind of operation you're talking about.\n",
    "- when you use (+, -, /, ..), either the two variables should have number of columns or one of them should be one number.\n",
    "- When you read NumPy, you doing doing two things: reading the operations and keeping track of the shapes."
   ]
  },
  {
   "cell_type": "code",
   "execution_count": 47,
   "metadata": {},
   "outputs": [
    {
     "name": "stdout",
     "output_type": "stream",
     "text": [
      "(1, 3)\n"
     ]
    }
   ],
   "source": [
    "a = np.zeros((1,4))\n",
    "b = np.zeros((4,3))\n",
    "c = a.dot(b)\n",
    "print(c.shape)"
   ]
  },
  {
   "cell_type": "markdown",
   "metadata": {},
   "source": [
    "- If you put (rows, columns) in the variable description and used the dot product, you're dotting the variables next to each other. (**Order Matters**)\n",
    "- Let's check more examples that demonstrate the concept of `shape`:"
   ]
  },
  {
   "cell_type": "code",
   "execution_count": 1,
   "metadata": {},
   "outputs": [],
   "source": [
    "import numpy as np"
   ]
  },
  {
   "cell_type": "code",
   "execution_count": 2,
   "metadata": {},
   "outputs": [
    {
     "name": "stdout",
     "output_type": "stream",
     "text": [
      "(2, 3)\n"
     ]
    }
   ],
   "source": [
    "a = np.zeros((2,4))\n",
    "b = np.zeros((4,3))\n",
    "c = a.dot(b)\n",
    "print(c.shape)"
   ]
  },
  {
   "cell_type": "code",
   "execution_count": 3,
   "metadata": {},
   "outputs": [
    {
     "name": "stdout",
     "output_type": "stream",
     "text": [
      "(2, 3)\n"
     ]
    }
   ],
   "source": [
    "e = np.zeros((2,1))\n",
    "f = np.zeros((1,3))\n",
    "g = e.dot(f)\n",
    "print(g.shape)"
   ]
  },
  {
   "cell_type": "code",
   "execution_count": 6,
   "metadata": {},
   "outputs": [
    {
     "name": "stdout",
     "output_type": "stream",
     "text": [
      "(4, 6)\n"
     ]
    }
   ],
   "source": [
    "h = np.zeros((5,4)).T\n",
    "i = np.zeros((5,6))\n",
    "j = h.dot(i)\n",
    "print(j.shape)"
   ]
  },
  {
   "cell_type": "code",
   "execution_count": 7,
   "metadata": {},
   "outputs": [
    {
     "ename": "ValueError",
     "evalue": "shapes (5,4) and (5,6) not aligned: 4 (dim 1) != 5 (dim 0)",
     "output_type": "error",
     "traceback": [
      "\u001b[0;31m---------------------------------------------------------------------------\u001b[0m",
      "\u001b[0;31mValueError\u001b[0m                                Traceback (most recent call last)",
      "\u001b[0;32m<ipython-input-7-86b642518282>\u001b[0m in \u001b[0;36m<module>\u001b[0;34m\u001b[0m\n\u001b[1;32m      3\u001b[0m \u001b[0mh\u001b[0m \u001b[0;34m=\u001b[0m \u001b[0mnp\u001b[0m\u001b[0;34m.\u001b[0m\u001b[0mzeros\u001b[0m\u001b[0;34m(\u001b[0m\u001b[0;34m(\u001b[0m\u001b[0;36m5\u001b[0m\u001b[0;34m,\u001b[0m\u001b[0;36m4\u001b[0m\u001b[0;34m)\u001b[0m\u001b[0;34m)\u001b[0m\u001b[0;34m\u001b[0m\u001b[0;34m\u001b[0m\u001b[0m\n\u001b[1;32m      4\u001b[0m \u001b[0mi\u001b[0m \u001b[0;34m=\u001b[0m \u001b[0mnp\u001b[0m\u001b[0;34m.\u001b[0m\u001b[0mzeros\u001b[0m\u001b[0;34m(\u001b[0m\u001b[0;34m(\u001b[0m\u001b[0;36m5\u001b[0m\u001b[0;34m,\u001b[0m\u001b[0;36m6\u001b[0m\u001b[0;34m)\u001b[0m\u001b[0;34m)\u001b[0m\u001b[0;34m\u001b[0m\u001b[0;34m\u001b[0m\u001b[0m\n\u001b[0;32m----> 5\u001b[0;31m \u001b[0mj\u001b[0m \u001b[0;34m=\u001b[0m \u001b[0mh\u001b[0m\u001b[0;34m.\u001b[0m\u001b[0mdot\u001b[0m\u001b[0;34m(\u001b[0m\u001b[0mi\u001b[0m\u001b[0;34m)\u001b[0m\u001b[0;34m\u001b[0m\u001b[0;34m\u001b[0m\u001b[0m\n\u001b[0m\u001b[1;32m      6\u001b[0m \u001b[0mprint\u001b[0m\u001b[0;34m(\u001b[0m\u001b[0mj\u001b[0m\u001b[0;34m.\u001b[0m\u001b[0mshape\u001b[0m\u001b[0;34m)\u001b[0m\u001b[0;34m\u001b[0m\u001b[0;34m\u001b[0m\u001b[0m\n",
      "\u001b[0;31mValueError\u001b[0m: shapes (5,4) and (5,6) not aligned: 4 (dim 1) != 5 (dim 0)"
     ]
    }
   ],
   "source": [
    "import numpy as np\n",
    "\n",
    "h = np.zeros((5,4))\n",
    "i = np.zeros((5,6))\n",
    "j = h.dot(i)\n",
    "print(j.shape)"
   ]
  },
  {
   "cell_type": "markdown",
   "metadata": {},
   "source": [
    "## Summary\n",
    "### To Predict, Neural Networks Perform Repeated Weighted Sums of the Input"
   ]
  },
  {
   "cell_type": "markdown",
   "metadata": {},
   "source": [
    "- The Network's Intelligence depends on the Weight values you give it.\n",
    "- Everything we've done in this chapter is a form of what's called forward propagation.\n",
    "    - It's called this because you're propagating activations through the network"
   ]
  },
  {
   "cell_type": "markdown",
   "metadata": {},
   "source": [
    "# Sketches"
   ]
  },
  {
   "cell_type": "markdown",
   "metadata": {},
   "source": [
    "<div style=\"text-align:center;\"><img style=\"width:333px\" src=\"static/imgs/03/1-to-1-NN-Note.jpg\" /><img style=\"width:333px\" src=\"static/imgs/03/Reminder-1-to-1-NN-Note.jpg\" /></div>"
   ]
  }
 ],
 "metadata": {
  "kernelspec": {
   "display_name": "Python 3",
   "language": "python",
   "name": "python3"
  },
  "language_info": {
   "codemirror_mode": {
    "name": "ipython",
    "version": 3
   },
   "file_extension": ".py",
   "mimetype": "text/x-python",
   "name": "python",
   "nbconvert_exporter": "python",
   "pygments_lexer": "ipython3",
   "version": "3.7.5"
  }
 },
 "nbformat": 4,
 "nbformat_minor": 4
}
